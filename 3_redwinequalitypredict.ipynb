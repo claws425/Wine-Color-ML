{
 "cells": [
  {
   "cell_type": "markdown",
   "metadata": {},
   "source": [
    "## Red Wine Quality Prediction with Decision Tree Classifier"
   ]
  },
  {
   "cell_type": "markdown",
   "metadata": {},
   "source": [
    "This is practice for becoming familiar with the code. I used the information found on \n",
    "https://medium.com/themlblog/wine-quality-prediction-using-machine-learning-59c88a826789 to run through the red wine data set."
   ]
  },
  {
   "cell_type": "code",
   "execution_count": 1,
   "metadata": {},
   "outputs": [],
   "source": [
    "# Import the libraries\n",
    "# pandas will be used to work with file formats like csv, xls, etc.\n",
    "\n",
    "import pandas as pd\n",
    "\n",
    "# numpy is used for making the mathematical calculations more accurate\n",
    "\n",
    "import numpy as np\n",
    "\n",
    "# sklearn (scikit-learn) will be used to import our classifier for prediction\n",
    "# is used to split our dataset into training and testing data\n",
    "\n",
    "from sklearn.model_selection import train_test_split\n",
    "\n",
    "# is used to preprocess the data before fitting into predictor\n",
    "\n",
    "from sklearn import preprocessing\n",
    "\n",
    "# is used to import our decision tree classifier\n",
    "\n",
    "from sklearn import tree"
   ]
  },
  {
   "cell_type": "code",
   "execution_count": 2,
   "metadata": {},
   "outputs": [
    {
     "data": {
      "text/html": [
       "<div>\n",
       "<style scoped>\n",
       "    .dataframe tbody tr th:only-of-type {\n",
       "        vertical-align: middle;\n",
       "    }\n",
       "\n",
       "    .dataframe tbody tr th {\n",
       "        vertical-align: top;\n",
       "    }\n",
       "\n",
       "    .dataframe thead th {\n",
       "        text-align: right;\n",
       "    }\n",
       "</style>\n",
       "<table border=\"1\" class=\"dataframe\">\n",
       "  <thead>\n",
       "    <tr style=\"text-align: right;\">\n",
       "      <th></th>\n",
       "      <th>fixed acidity</th>\n",
       "      <th>volatile acidity</th>\n",
       "      <th>citric acid</th>\n",
       "      <th>residual sugar</th>\n",
       "      <th>chlorides</th>\n",
       "      <th>free sulfur dioxide</th>\n",
       "      <th>total sulfur dioxide</th>\n",
       "      <th>density</th>\n",
       "      <th>pH</th>\n",
       "      <th>sulphates</th>\n",
       "      <th>alcohol</th>\n",
       "      <th>quality</th>\n",
       "    </tr>\n",
       "  </thead>\n",
       "  <tbody>\n",
       "    <tr>\n",
       "      <th>0</th>\n",
       "      <td>7.4</td>\n",
       "      <td>0.70</td>\n",
       "      <td>0.00</td>\n",
       "      <td>1.9</td>\n",
       "      <td>0.076</td>\n",
       "      <td>11.0</td>\n",
       "      <td>34.0</td>\n",
       "      <td>0.9978</td>\n",
       "      <td>3.51</td>\n",
       "      <td>0.56</td>\n",
       "      <td>9.4</td>\n",
       "      <td>5</td>\n",
       "    </tr>\n",
       "    <tr>\n",
       "      <th>1</th>\n",
       "      <td>7.8</td>\n",
       "      <td>0.88</td>\n",
       "      <td>0.00</td>\n",
       "      <td>2.6</td>\n",
       "      <td>0.098</td>\n",
       "      <td>25.0</td>\n",
       "      <td>67.0</td>\n",
       "      <td>0.9968</td>\n",
       "      <td>3.20</td>\n",
       "      <td>0.68</td>\n",
       "      <td>9.8</td>\n",
       "      <td>5</td>\n",
       "    </tr>\n",
       "    <tr>\n",
       "      <th>2</th>\n",
       "      <td>7.8</td>\n",
       "      <td>0.76</td>\n",
       "      <td>0.04</td>\n",
       "      <td>2.3</td>\n",
       "      <td>0.092</td>\n",
       "      <td>15.0</td>\n",
       "      <td>54.0</td>\n",
       "      <td>0.9970</td>\n",
       "      <td>3.26</td>\n",
       "      <td>0.65</td>\n",
       "      <td>9.8</td>\n",
       "      <td>5</td>\n",
       "    </tr>\n",
       "    <tr>\n",
       "      <th>3</th>\n",
       "      <td>11.2</td>\n",
       "      <td>0.28</td>\n",
       "      <td>0.56</td>\n",
       "      <td>1.9</td>\n",
       "      <td>0.075</td>\n",
       "      <td>17.0</td>\n",
       "      <td>60.0</td>\n",
       "      <td>0.9980</td>\n",
       "      <td>3.16</td>\n",
       "      <td>0.58</td>\n",
       "      <td>9.8</td>\n",
       "      <td>6</td>\n",
       "    </tr>\n",
       "    <tr>\n",
       "      <th>4</th>\n",
       "      <td>7.4</td>\n",
       "      <td>0.70</td>\n",
       "      <td>0.00</td>\n",
       "      <td>1.9</td>\n",
       "      <td>0.076</td>\n",
       "      <td>11.0</td>\n",
       "      <td>34.0</td>\n",
       "      <td>0.9978</td>\n",
       "      <td>3.51</td>\n",
       "      <td>0.56</td>\n",
       "      <td>9.4</td>\n",
       "      <td>5</td>\n",
       "    </tr>\n",
       "  </tbody>\n",
       "</table>\n",
       "</div>"
      ],
      "text/plain": [
       "   fixed acidity  volatile acidity  citric acid  residual sugar  chlorides  \\\n",
       "0            7.4              0.70         0.00             1.9      0.076   \n",
       "1            7.8              0.88         0.00             2.6      0.098   \n",
       "2            7.8              0.76         0.04             2.3      0.092   \n",
       "3           11.2              0.28         0.56             1.9      0.075   \n",
       "4            7.4              0.70         0.00             1.9      0.076   \n",
       "\n",
       "   free sulfur dioxide  total sulfur dioxide  density    pH  sulphates  \\\n",
       "0                 11.0                  34.0   0.9978  3.51       0.56   \n",
       "1                 25.0                  67.0   0.9968  3.20       0.68   \n",
       "2                 15.0                  54.0   0.9970  3.26       0.65   \n",
       "3                 17.0                  60.0   0.9980  3.16       0.58   \n",
       "4                 11.0                  34.0   0.9978  3.51       0.56   \n",
       "\n",
       "   alcohol  quality  \n",
       "0      9.4        5  \n",
       "1      9.8        5  \n",
       "2      9.8        5  \n",
       "3      9.8        6  \n",
       "4      9.4        5  "
      ]
     },
     "execution_count": 2,
     "metadata": {},
     "output_type": "execute_result"
    }
   ],
   "source": [
    "# Read in the csv file\n",
    "\n",
    "wine_data=pd.read_csv(\"winequality-red.csv\")\n",
    "wine_data.head()"
   ]
  },
  {
   "cell_type": "code",
   "execution_count": 3,
   "metadata": {},
   "outputs": [],
   "source": [
    "# separate the features and labels into two different dataframes\n",
    "\n",
    "y = wine_data.quality\n",
    "X = wine_data.drop('quality', axis=1)"
   ]
  },
  {
   "cell_type": "code",
   "execution_count": 4,
   "metadata": {},
   "outputs": [],
   "source": [
    "# split the dataset into test and train data\n",
    "# we made the test data 20% of the original data.\n",
    "# the remaining 80% is used for training\n",
    "\n",
    "X_train, X_test, y_train, y_test = train_test_split(X, y,test_size=0.3)"
   ]
  },
  {
   "cell_type": "code",
   "execution_count": 5,
   "metadata": {},
   "outputs": [
    {
     "name": "stdout",
     "output_type": "stream",
     "text": [
      "      fixed acidity  volatile acidity  citric acid  residual sugar  chlorides  \\\n",
      "1543           11.1             0.440         0.42             2.2      0.064   \n",
      "1191            6.5             0.885         0.00             2.3      0.166   \n",
      "1598            6.0             0.310         0.47             3.6      0.067   \n",
      "334             7.9             0.650         0.01             2.5      0.078   \n",
      "1411            6.4             0.470         0.40             2.4      0.071   \n",
      "\n",
      "      free sulfur dioxide  total sulfur dioxide  density    pH  sulphates  \\\n",
      "1543                 14.0                  19.0  0.99758  3.25       0.57   \n",
      "1191                  6.0                  12.0  0.99551  3.56       0.51   \n",
      "1598                 18.0                  42.0  0.99549  3.39       0.66   \n",
      "334                  17.0                  38.0  0.99630  3.34       0.74   \n",
      "1411                  8.0                  19.0  0.99630  3.56       0.73   \n",
      "\n",
      "      alcohol  \n",
      "1543     10.4  \n",
      "1191     10.8  \n",
      "1598     11.0  \n",
      "334      11.7  \n",
      "1411     10.6  \n"
     ]
    }
   ],
   "source": [
    "# Print the first five elements of data we have split\n",
    "\n",
    "print(X_train.head())"
   ]
  },
  {
   "cell_type": "code",
   "execution_count": 6,
   "metadata": {},
   "outputs": [
    {
     "name": "stdout",
     "output_type": "stream",
     "text": [
      "[[ 1.56133054 -0.48211278  0.74992101 ... -0.35679967 -0.50928046\n",
      "  -0.02592581]\n",
      " [-1.04437994  2.06316363 -1.42407281 ...  1.63147725 -0.85341382\n",
      "   0.34305328]\n",
      " [-1.32760934 -1.22567668  1.0087298  ...  0.54113184  0.00691957\n",
      "   0.52754282]\n",
      " ...\n",
      " [-0.98773406  0.60463445 -1.42407281 ... -0.6774895  -1.19754718\n",
      "  -0.85612875]\n",
      " [ 0.88157998  1.2338039  -0.44059941 ... -1.06231729 -0.62399158\n",
      "  -0.94837352]\n",
      " [-0.76115054  0.08985944 -1.42407281 ...  0.54113184  1.03931964\n",
      "   0.89652191]]\n"
     ]
    }
   ],
   "source": [
    "# After obtaining the data we will be using, the next step\n",
    "# is data normalization. It is part of pre-processing in\n",
    "# which data is converted to fit in a range of -1 and 1.\n",
    "\n",
    "X_train_scaled = preprocessing.scale(X_train)\n",
    "print(X_train_scaled)"
   ]
  },
  {
   "cell_type": "code",
   "execution_count": 7,
   "metadata": {},
   "outputs": [
    {
     "data": {
      "text/plain": [
       "DecisionTreeClassifier()"
      ]
     },
     "execution_count": 7,
     "metadata": {},
     "output_type": "execute_result"
    }
   ],
   "source": [
    "# Now we train our algorithm so that it can predict the wine quality\n",
    "clf=tree.DecisionTreeClassifier()\n",
    "clf.fit(X_train, y_train)"
   ]
  },
  {
   "cell_type": "code",
   "execution_count": 9,
   "metadata": {},
   "outputs": [
    {
     "name": "stdout",
     "output_type": "stream",
     "text": [
      "\n",
      "The confidence score: 58.96%\n"
     ]
    }
   ],
   "source": [
    "# Check to see how efficiently the algorithm is predicting the wine quality.\n",
    "confidence = clf.score(X_test, y_test)\n",
    "\n",
    "print(\"\\nThe confidence score: {:.2f}%\" .format(confidence * 100))"
   ]
  },
  {
   "cell_type": "code",
   "execution_count": 10,
   "metadata": {},
   "outputs": [],
   "source": [
    "# This score can change over time depending on the size of the dataset\n",
    "# and shuffling of data when we divide the data into test and train,\n",
    "# but you can always expect a range of +/-5 around the first result.\n",
    "\n",
    "# Now that we have trained our classifier with features, we obtain\n",
    "# the labels using predict() function.\n",
    "\n",
    "y_pred = clf.predict(X_test)"
   ]
  },
  {
   "cell_type": "code",
   "execution_count": 11,
   "metadata": {},
   "outputs": [
    {
     "name": "stdout",
     "output_type": "stream",
     "text": [
      "\n",
      "The prediction:\n",
      "\n",
      "5\n",
      "5\n",
      "7\n",
      "5\n",
      "5\n",
      "\n",
      "The expectation:\n",
      "\n",
      "35      6\n",
      "1232    5\n",
      "1029    7\n",
      "1548    5\n",
      "396     5\n",
      "Name: quality, dtype: int64\n"
     ]
    }
   ],
   "source": [
    "# Our predicted information is stored in y_pred but it has far too many columns\n",
    "# to compare it with the expected labels we stored in y_test . So we will just\n",
    "# take first five entries of both, print them and compare them.\n",
    "#converting the numpy array to list\n",
    "\n",
    "x=np.array(y_pred).tolist()\n",
    "\n",
    "#printing first 5 predictions\n",
    "\n",
    "print(\"\\nThe prediction:\\n\")\n",
    "for i in range(0,5):\n",
    "    print (x[i])\n",
    "    \n",
    "#printing first five expectations\n",
    "\n",
    "print(\"\\nThe expectation:\\n\")\n",
    "print (y_test.head())"
   ]
  },
  {
   "cell_type": "code",
   "execution_count": 13,
   "metadata": {},
   "outputs": [],
   "source": [
    "# Notice that almost all of the values in the prediction are similar to the expectations. The predictor was wrong\n",
    "# once, predicting 6 instead of 5. This gives us the accuracy of 80% for 5 examples. Of course, as the\n",
    "# examples increases the accuracy goes down, precisely to 58.96%, but overall our predictor performs\n",
    "# quite well, in-fact any accuracy % greater than 50% is considered as great.\n",
    "# This is not a model that I will be using in my final project."
   ]
  }
 ],
 "metadata": {
  "kernelspec": {
   "display_name": "Python 3",
   "language": "python",
   "name": "python3"
  },
  "language_info": {
   "codemirror_mode": {
    "name": "ipython",
    "version": 3
   },
   "file_extension": ".py",
   "mimetype": "text/x-python",
   "name": "python",
   "nbconvert_exporter": "python",
   "pygments_lexer": "ipython3",
   "version": "3.8.5"
  }
 },
 "nbformat": 4,
 "nbformat_minor": 4
}
