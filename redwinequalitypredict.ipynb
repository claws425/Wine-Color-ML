{
 "cells": [
  {
   "cell_type": "code",
   "execution_count": 1,
   "metadata": {},
   "outputs": [],
   "source": [
    "# This is practice for becoming familiar with the code\n",
    "# I used the information found on \n",
    "# https://medium.com/themlblog/wine-quality-prediction-using-machine-learning-59c88a826789\n",
    "# to run through the red wine data set"
   ]
  },
  {
   "cell_type": "code",
   "execution_count": 2,
   "metadata": {},
   "outputs": [],
   "source": [
    "# Import the libraries\n",
    "# pandas will be used to work with file formats like csv, xls, etc.\n",
    "import pandas as pd\n",
    "# numpy is used for making the mathematical calculations more accurate\n",
    "import numpy as np\n",
    "# sklearn (scikit-learn) will be used to import our classifier for prediction\n",
    "# is used to split our dataset into training and testing data\n",
    "from sklearn.model_selection import train_test_split\n",
    "# is used to preprocess the data before fitting into predictor\n",
    "from sklearn import preprocessing\n",
    "# is used to import our decision tree classifier\n",
    "from sklearn import tree"
   ]
  },
  {
   "cell_type": "code",
   "execution_count": 3,
   "metadata": {},
   "outputs": [
    {
     "data": {
      "text/html": [
       "<div>\n",
       "<style scoped>\n",
       "    .dataframe tbody tr th:only-of-type {\n",
       "        vertical-align: middle;\n",
       "    }\n",
       "\n",
       "    .dataframe tbody tr th {\n",
       "        vertical-align: top;\n",
       "    }\n",
       "\n",
       "    .dataframe thead th {\n",
       "        text-align: right;\n",
       "    }\n",
       "</style>\n",
       "<table border=\"1\" class=\"dataframe\">\n",
       "  <thead>\n",
       "    <tr style=\"text-align: right;\">\n",
       "      <th></th>\n",
       "      <th>fixed acidity</th>\n",
       "      <th>volatile acidity</th>\n",
       "      <th>citric acid</th>\n",
       "      <th>residual sugar</th>\n",
       "      <th>chlorides</th>\n",
       "      <th>free sulfur dioxide</th>\n",
       "      <th>total sulfur dioxide</th>\n",
       "      <th>density</th>\n",
       "      <th>pH</th>\n",
       "      <th>sulphates</th>\n",
       "      <th>alcohol</th>\n",
       "      <th>quality</th>\n",
       "    </tr>\n",
       "  </thead>\n",
       "  <tbody>\n",
       "    <tr>\n",
       "      <th>0</th>\n",
       "      <td>7.4</td>\n",
       "      <td>0.70</td>\n",
       "      <td>0.00</td>\n",
       "      <td>1.9</td>\n",
       "      <td>0.076</td>\n",
       "      <td>11.0</td>\n",
       "      <td>34.0</td>\n",
       "      <td>0.9978</td>\n",
       "      <td>3.51</td>\n",
       "      <td>0.56</td>\n",
       "      <td>9.4</td>\n",
       "      <td>5</td>\n",
       "    </tr>\n",
       "    <tr>\n",
       "      <th>1</th>\n",
       "      <td>7.8</td>\n",
       "      <td>0.88</td>\n",
       "      <td>0.00</td>\n",
       "      <td>2.6</td>\n",
       "      <td>0.098</td>\n",
       "      <td>25.0</td>\n",
       "      <td>67.0</td>\n",
       "      <td>0.9968</td>\n",
       "      <td>3.20</td>\n",
       "      <td>0.68</td>\n",
       "      <td>9.8</td>\n",
       "      <td>5</td>\n",
       "    </tr>\n",
       "    <tr>\n",
       "      <th>2</th>\n",
       "      <td>7.8</td>\n",
       "      <td>0.76</td>\n",
       "      <td>0.04</td>\n",
       "      <td>2.3</td>\n",
       "      <td>0.092</td>\n",
       "      <td>15.0</td>\n",
       "      <td>54.0</td>\n",
       "      <td>0.9970</td>\n",
       "      <td>3.26</td>\n",
       "      <td>0.65</td>\n",
       "      <td>9.8</td>\n",
       "      <td>5</td>\n",
       "    </tr>\n",
       "    <tr>\n",
       "      <th>3</th>\n",
       "      <td>11.2</td>\n",
       "      <td>0.28</td>\n",
       "      <td>0.56</td>\n",
       "      <td>1.9</td>\n",
       "      <td>0.075</td>\n",
       "      <td>17.0</td>\n",
       "      <td>60.0</td>\n",
       "      <td>0.9980</td>\n",
       "      <td>3.16</td>\n",
       "      <td>0.58</td>\n",
       "      <td>9.8</td>\n",
       "      <td>6</td>\n",
       "    </tr>\n",
       "    <tr>\n",
       "      <th>4</th>\n",
       "      <td>7.4</td>\n",
       "      <td>0.70</td>\n",
       "      <td>0.00</td>\n",
       "      <td>1.9</td>\n",
       "      <td>0.076</td>\n",
       "      <td>11.0</td>\n",
       "      <td>34.0</td>\n",
       "      <td>0.9978</td>\n",
       "      <td>3.51</td>\n",
       "      <td>0.56</td>\n",
       "      <td>9.4</td>\n",
       "      <td>5</td>\n",
       "    </tr>\n",
       "  </tbody>\n",
       "</table>\n",
       "</div>"
      ],
      "text/plain": [
       "   fixed acidity  volatile acidity  citric acid  residual sugar  chlorides  \\\n",
       "0            7.4              0.70         0.00             1.9      0.076   \n",
       "1            7.8              0.88         0.00             2.6      0.098   \n",
       "2            7.8              0.76         0.04             2.3      0.092   \n",
       "3           11.2              0.28         0.56             1.9      0.075   \n",
       "4            7.4              0.70         0.00             1.9      0.076   \n",
       "\n",
       "   free sulfur dioxide  total sulfur dioxide  density    pH  sulphates  \\\n",
       "0                 11.0                  34.0   0.9978  3.51       0.56   \n",
       "1                 25.0                  67.0   0.9968  3.20       0.68   \n",
       "2                 15.0                  54.0   0.9970  3.26       0.65   \n",
       "3                 17.0                  60.0   0.9980  3.16       0.58   \n",
       "4                 11.0                  34.0   0.9978  3.51       0.56   \n",
       "\n",
       "   alcohol  quality  \n",
       "0      9.4        5  \n",
       "1      9.8        5  \n",
       "2      9.8        5  \n",
       "3      9.8        6  \n",
       "4      9.4        5  "
      ]
     },
     "execution_count": 3,
     "metadata": {},
     "output_type": "execute_result"
    }
   ],
   "source": [
    "# Read in the csv file\n",
    "wine_data=pd.read_csv(\"winequality-red.csv\")\n",
    "wine_data.head()"
   ]
  },
  {
   "cell_type": "code",
   "execution_count": 4,
   "metadata": {},
   "outputs": [],
   "source": [
    "# separate the features and labels into two different dataframes\n",
    "y = wine_data.quality\n",
    "X = wine_data.drop('quality', axis=1)\n"
   ]
  },
  {
   "cell_type": "code",
   "execution_count": 5,
   "metadata": {},
   "outputs": [],
   "source": [
    "# split the dataset into test and train data\n",
    "# we made the test data 20% of the original data.\n",
    "# the remaining 80% is used for training\n",
    "X_train, X_test, y_train, y_test = train_test_split(X, y,test_size=0.3)"
   ]
  },
  {
   "cell_type": "code",
   "execution_count": 6,
   "metadata": {},
   "outputs": [
    {
     "name": "stdout",
     "output_type": "stream",
     "text": [
      "      fixed acidity  volatile acidity  citric acid  residual sugar  chlorides  \\\n",
      "471             9.6             0.540         0.42             2.4      0.081   \n",
      "548            12.4             0.350         0.49             2.6      0.079   \n",
      "1360            9.2             0.540         0.31             2.3      0.112   \n",
      "285             9.9             0.590         0.07             3.4      0.102   \n",
      "1260            8.6             0.635         0.68             1.8      0.403   \n",
      "\n",
      "      free sulfur dioxide  total sulfur dioxide  density    pH  sulphates  \\\n",
      "471                  25.0                  52.0  0.99700  3.20       0.71   \n",
      "548                  27.0                  69.0  0.99940  3.12       0.75   \n",
      "1360                 11.0                  38.0  0.99699  3.24       0.56   \n",
      "285                  32.0                  71.0  1.00015  3.31       0.71   \n",
      "1260                 19.0                  56.0  0.99632  3.02       1.15   \n",
      "\n",
      "      alcohol  \n",
      "471      11.4  \n",
      "548      10.4  \n",
      "1360     10.9  \n",
      "285       9.8  \n",
      "1260      9.3  \n"
     ]
    }
   ],
   "source": [
    "# Print the first five elements of data we have split\n",
    "print(X_train.head())"
   ]
  },
  {
   "cell_type": "code",
   "execution_count": 7,
   "metadata": {},
   "outputs": [
    {
     "name": "stdout",
     "output_type": "stream",
     "text": [
      "[[ 0.72628084  0.06320909  0.77470304 ... -0.72011474  0.2830714\n",
      "   0.90763711]\n",
      " [ 2.32711314 -0.98752472  1.13852875 ... -1.24507135  0.51779307\n",
      "  -0.04485837]\n",
      " [ 0.49759051  0.06320909  0.20297693 ... -0.45763644 -0.59713487\n",
      "   0.43138937]\n",
      " ...\n",
      " [ 0.55476309 -0.15799802  0.46285244 ... -0.26077771  0.6351539\n",
      "   0.33613983]\n",
      " [-0.30282564  1.27984825 -1.20035078 ... -0.32639728 -0.06901111\n",
      "  -0.61635565]\n",
      " [ 1.75538731 -1.48524073  0.87865324 ... -1.24507135  0.92855599\n",
      "  -1.09260339]]\n"
     ]
    }
   ],
   "source": [
    "# After obtaining the data we will be using, the next step\n",
    "# is data normalization. It is part of pre-processing in\n",
    "# which data is converted to fit in a range of -1 and 1.\n",
    "X_train_scaled = preprocessing.scale(X_train)\n",
    "print(X_train_scaled)"
   ]
  },
  {
   "cell_type": "code",
   "execution_count": 8,
   "metadata": {},
   "outputs": [
    {
     "data": {
      "text/plain": [
       "DecisionTreeClassifier()"
      ]
     },
     "execution_count": 8,
     "metadata": {},
     "output_type": "execute_result"
    }
   ],
   "source": [
    "# Now we train our algorithm so that it can predict the wine quality\n",
    "clf=tree.DecisionTreeClassifier()\n",
    "clf.fit(X_train, y_train)"
   ]
  },
  {
   "cell_type": "code",
   "execution_count": 9,
   "metadata": {},
   "outputs": [
    {
     "name": "stdout",
     "output_type": "stream",
     "text": [
      "\n",
      "The confidence score:\n",
      "\n",
      "59.375\n"
     ]
    }
   ],
   "source": [
    "# Check to see how efficiently the algorithm is predicting the wine quality.\n",
    "confidence = clf.score(X_test, y_test)\n",
    "print(\"\\nThe confidence score:\\n\")\n",
    "print(confidence * 100)"
   ]
  },
  {
   "cell_type": "code",
   "execution_count": 10,
   "metadata": {},
   "outputs": [],
   "source": [
    "# This score can change over time depending on the size of the dataset\n",
    "# and shuffling of data when we divide the data into test and train,\n",
    "# but you can always expect a range of +/-5 around the first result.\n",
    "\n",
    "# Now that we have trained our classifier with features, we obtain\n",
    "# the labels using predict() function.\n",
    "y_pred = clf.predict(X_test)"
   ]
  },
  {
   "cell_type": "code",
   "execution_count": 11,
   "metadata": {},
   "outputs": [
    {
     "name": "stdout",
     "output_type": "stream",
     "text": [
      "\n",
      "The prediction:\n",
      "\n",
      "5\n",
      "5\n",
      "6\n",
      "6\n",
      "6\n",
      "\n",
      "The expectation:\n",
      "\n",
      "366     7\n",
      "1346    5\n",
      "1404    6\n",
      "954     6\n",
      "10      5\n",
      "Name: quality, dtype: int64\n"
     ]
    }
   ],
   "source": [
    "# Our predicted information is stored in y_pred but it has far too many columns\n",
    "# to compare it with the expected labels we stored in y_test . So we will just\n",
    "# take first five entries of both, print them and compare them.\n",
    "#converting the numpy array to list\n",
    "x=np.array(y_pred).tolist()\n",
    "\n",
    "#printing first 5 predictions\n",
    "print(\"\\nThe prediction:\\n\")\n",
    "for i in range(0,5):\n",
    "    print (x[i])\n",
    "    \n",
    "#printing first five expectations\n",
    "print(\"\\nThe expectation:\\n\")\n",
    "print (y_test.head())"
   ]
  },
  {
   "cell_type": "code",
   "execution_count": 12,
   "metadata": {},
   "outputs": [],
   "source": [
    "# Don’t be intimidated, we did nothing magical above. We just converted y_pred from a numpy array to a list,\n",
    "# so that we can compare with ease. Then we printed the first five elements of that list using for loop. And finally,\n",
    "# we just printed the first five values that we were expecting, which were stored in y_test using head() function.\n",
    "# The output looks something like this."
   ]
  },
  {
   "cell_type": "code",
   "execution_count": 13,
   "metadata": {},
   "outputs": [],
   "source": [
    "# Notice that almost all of the values in the prediction are similar to the expectations. The predictor was wrong\n",
    "# twice, predicting 7 instead of 5 and 5 instead of 6. This gives us the accuracy of 60% for 5 examples. Of course, as the\n",
    "# examples increases the accuracy goes down, precisely to 59.375%, but overall our predictor performs\n",
    "# quite well, in-fact any accuracy % greater than 50% is considered as great.\n",
    "# This is not a model that I will be using in my final project."
   ]
  }
 ],
 "metadata": {
  "kernelspec": {
   "display_name": "Python 3",
   "language": "python",
   "name": "python3"
  },
  "language_info": {
   "codemirror_mode": {
    "name": "ipython",
    "version": 3
   },
   "file_extension": ".py",
   "mimetype": "text/x-python",
   "name": "python",
   "nbconvert_exporter": "python",
   "pygments_lexer": "ipython3",
   "version": "3.8.5"
  }
 },
 "nbformat": 4,
 "nbformat_minor": 4
}
